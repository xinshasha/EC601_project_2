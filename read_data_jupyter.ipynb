{
 "cells": [
  {
   "cell_type": "code",
   "execution_count": 1,
   "metadata": {},
   "outputs": [
    {
     "name": "stdout",
     "output_type": "stream",
     "text": [
      "['read_data_jupyter.ipynb', 'data_batch_1', '.ipynb_checkpoints', 'data_batch_3', 'batches.meta', 'data_batch_4', 'train.json', 'data_batch_2', 'data_batch_5', 'readme.html', 'test_batch']\n"
     ]
    }
   ],
   "source": [
    "import pickle\n",
    "import os,sys\n",
    "import numpy as np\n",
    "import pandas as pd\n",
    "cur_dir=os.getcwd()\n",
    "lis = os.listdir()\n",
    "print(lis)"
   ]
  },
  {
   "cell_type": "code",
   "execution_count": 2,
   "metadata": {
    "collapsed": true
   },
   "outputs": [],
   "source": [
    "def unpickle(file):\n",
    "    with open(file, 'rb') as fo:\n",
    "        dict = pickle.load(fo, encoding='bytes')\n",
    "    return dict"
   ]
  },
  {
   "cell_type": "code",
   "execution_count": null,
   "metadata": {},
   "outputs": [],
   "source": []
  },
  {
   "cell_type": "code",
   "execution_count": null,
   "metadata": {},
   "outputs": [],
   "source": []
  },
  {
   "cell_type": "code",
   "execution_count": 3,
   "metadata": {
    "collapsed": true
   },
   "outputs": [],
   "source": [
    "batches=unpickle('batches.meta')"
   ]
  },
  {
   "cell_type": "code",
   "execution_count": 4,
   "metadata": {},
   "outputs": [
    {
     "name": "stdout",
     "output_type": "stream",
     "text": [
      "dict_keys([b'num_cases_per_batch', b'label_names', b'num_vis'])\n"
     ]
    }
   ],
   "source": [
    "print(batches.keys())"
   ]
  },
  {
   "cell_type": "code",
   "execution_count": 5,
   "metadata": {},
   "outputs": [
    {
     "name": "stdout",
     "output_type": "stream",
     "text": [
      "[b'airplane', b'automobile', b'bird', b'cat', b'deer', b'dog', b'frog', b'horse', b'ship', b'truck']\n",
      "3072\n"
     ]
    }
   ],
   "source": [
    "print(batches[b'label_names'])\n",
    "print(batches[b'num_vis'])"
   ]
  },
  {
   "cell_type": "code",
   "execution_count": 6,
   "metadata": {},
   "outputs": [
    {
     "name": "stdout",
     "output_type": "stream",
     "text": [
      "Processing data_batch_1\n",
      "Processing data_batch_3\n",
      "Processing data_batch_4\n",
      "Processing data_batch_2\n",
      "Processing data_batch_5\n"
     ]
    }
   ],
   "source": [
    "new_labels=[]\n",
    "new_images=[]\n",
    "new_ind={}\n",
    "new_ind[1]=1\n",
    "new_ind[9]=0\n",
    "for file in lis:\n",
    "    if file[0:4] != 'data':\n",
    "        continue\n",
    "    dic=unpickle(file)\n",
    "    print('Processing '+file)\n",
    "    for i in range(len(dic[b'labels'])):\n",
    "        if dic[b'labels'][i] == 1 or dic[b'labels'][i] == 9:\n",
    "            new_labels.append(new_ind[dic[b'labels'][i]])\n",
    "            new_images.append(dic[b'data'][i])\n",
    "dataframe = pd.DataFrame({'labels':new_labels,'data':new_images})\n",
    "dataframe.to_json(cur_dir+\"/train.json\")\n"
   ]
  },
  {
   "cell_type": "code",
   "execution_count": 7,
   "metadata": {},
   "outputs": [
    {
     "name": "stdout",
     "output_type": "stream",
     "text": [
      "3072\n"
     ]
    }
   ],
   "source": [
    "print(len(dataframe['data'][0]))"
   ]
  },
  {
   "cell_type": "code",
   "execution_count": 8,
   "metadata": {},
   "outputs": [
    {
     "name": "stdout",
     "output_type": "stream",
     "text": [
      "Processing test_batch\n"
     ]
    }
   ],
   "source": [
    "new_labels=[]\n",
    "new_images=[]\n",
    "new_ind={}\n",
    "new_ind[1]=1\n",
    "new_ind[9]=0\n",
    "print('Processing '+file)\n",
    "for i in range(len(dic[b'labels'])):\n",
    "    if dic[b'labels'][i] == 1 or dic[b'labels'][i] == 9:\n",
    "        new_labels.append(new_ind[dic[b'labels'][i]])\n",
    "        new_images.append(dic[b'data'][i])\n",
    "dataframe = pd.DataFrame({'labels':new_labels,'data':new_images})\n",
    "dataframe.to_json(cur_dir+\"/test.json\")"
   ]
  },
  {
   "cell_type": "code",
   "execution_count": null,
   "metadata": {
    "collapsed": true
   },
   "outputs": [],
   "source": []
  },
  {
   "cell_type": "code",
   "execution_count": null,
   "metadata": {},
   "outputs": [],
   "source": []
  },
  {
   "cell_type": "code",
   "execution_count": null,
   "metadata": {},
   "outputs": [],
   "source": []
  },
  {
   "cell_type": "code",
   "execution_count": null,
   "metadata": {
    "collapsed": true
   },
   "outputs": [],
   "source": []
  }
 ],
 "metadata": {
  "kernelspec": {
   "display_name": "Python 3",
   "language": "python",
   "name": "python3"
  },
  "language_info": {
   "codemirror_mode": {
    "name": "ipython",
    "version": 3
   },
   "file_extension": ".py",
   "mimetype": "text/x-python",
   "name": "python",
   "nbconvert_exporter": "python",
   "pygments_lexer": "ipython3",
   "version": "3.6.3"
  }
 },
 "nbformat": 4,
 "nbformat_minor": 2
}
